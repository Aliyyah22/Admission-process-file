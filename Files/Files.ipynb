{
 "cells": [
  {
   "cell_type": "markdown",
   "id": "7605986e",
   "metadata": {},
   "source": [
    "Read in the data from the file \"names.txt\" and put all the names in a list and print them out"
   ]
  },
  {
   "cell_type": "code",
   "execution_count": null,
   "id": "ce772de6",
   "metadata": {},
   "outputs": [],
   "source": [
    "names=[]\n",
    "with open (\"names.txt\") as filein:\n",
    "    for line in filein:\n",
    "        l= line.strip()\n",
    "        names.append(l)\n",
    "    print(names)"
   ]
  },
  {
   "cell_type": "markdown",
   "id": "3e57dbab",
   "metadata": {},
   "source": [
    "Read in the names and telephone numbers from \"telephone.txt\" and store them. Then ask the user to input a name and print out the person's telephone number"
   ]
  },
  {
   "cell_type": "code",
   "execution_count": null,
   "id": "c05a3c80",
   "metadata": {},
   "outputs": [],
   "source": [
    "list_of_names_and_contact=[]\n",
    "\n",
    "with open (\"telephone.txt\") as filein:\n",
    "    for line in filein:\n",
    "        l= line.strip()\n",
    "        list_of_names_and_contact.append(l)\n",
    "    #print(list_of_names_and_contact)\n",
    "    print(\"Get the contact of Charlie, Peace, Sofiat, Stephen, Fionnuala, Alex or Kenechi\")\n",
    "    name = input(\"Input any of the name above so you can get the contact of that person: \")\n",
    "    if list_of_names_and_contact.index(name) % 2== 0 :\n",
    "        nameindex = list_of_names_and_contact.index(name)\n",
    "        \n",
    "        print(\"This person's contact is\",list_of_names_and_contact[nameindex+1])"
   ]
  },
  {
   "cell_type": "code",
   "execution_count": null,
   "id": "c6111467",
   "metadata": {},
   "outputs": [],
   "source": [
    "#OR\n",
    "\n",
    "with open(\"telephone.txt\") as t:\n",
    "    name= []\n",
    "    telephone= []\n",
    "    info=[]\n",
    "    \n",
    "    for line in t:\n",
    "        l= line.strip()\n",
    "        info.append(l)\n",
    "        \n",
    "user = input(\"Enter a name: \")\n",
    "nameindex = info.index(user)\n",
    "print(info[nameindex+1])\n",
    "#print(info)"
   ]
  },
  {
   "cell_type": "code",
   "execution_count": 46,
   "id": "f3fa40fc",
   "metadata": {},
   "outputs": [
    {
     "name": "stdout",
     "output_type": "stream",
     "text": [
      "['Charlie', 'Peace', 'Sofiat', 'Stephen', 'Fionnuala', 'Alex', 'Kenechi']\n",
      "['07783622184', '07889225371', '07879444312', '07732612645', '07989111255', '07788232488', '07888989112']\n"
     ]
    }
   ],
   "source": [
    "#tried to put each names and telephone numbers into their various list\n",
    "namtel=[]\n",
    "names= []\n",
    "telephone_numbers= []\n",
    "with open (\"telephone.txt\") as filein:\n",
    "    for line in filein:\n",
    "        l= line.strip()\n",
    "        #print(l)\n",
    "        namtel.append(l)\n",
    "#print(namtel)\n",
    "#user= input(\"Enter a name: \")\n",
    "    for i in range(len(namtel)):\n",
    "        #print(i, namtel[i])\n",
    "        if i%2 == 0:\n",
    "            names.append(namtel[i])\n",
    "        else:\n",
    "            telephone_numbers.append(namtel[i])\n",
    "    print(names)\n",
    "    print(telephone_numbers)\n",
    "#Yayyyyy I got it. I am happy\n",
    "\n",
    "\n"
   ]
  },
  {
   "cell_type": "code",
   "execution_count": 59,
   "id": "56a50567",
   "metadata": {},
   "outputs": [
    {
     "name": "stdout",
     "output_type": "stream",
     "text": [
      "country= Nigeria and capital = Abuja\n",
      "country= Scotland and capital = Edinburgh\n",
      "country= England and capital = London\n",
      "country= Ireland and capital = Dublin\n",
      "country= Bulgaria and capital = Sofia\n",
      "{'Nigeria': 'Abuja', 'Scotland': 'Edinburgh', 'England': 'London', 'Ireland': 'Dublin', 'Bulgaria': 'Sofia'}\n"
     ]
    }
   ],
   "source": [
    "#relating files with dictionaries\n",
    "\n",
    "with open(\"capitals.txt\") as capfile:\n",
    "    capdict =  {}\n",
    "    #capdict[\"France\"]= \"Paris\"\n",
    "    for line in capfile:\n",
    "        line= line.strip()\n",
    "        line= line.split()\n",
    "        print(f\"country= {line[0]} and capital = {line[1]}\")\n",
    "        capdict[line[0]] = line[1]\n",
    "print(capdict)"
   ]
  },
  {
   "cell_type": "code",
   "execution_count": 61,
   "id": "056afcea",
   "metadata": {},
   "outputs": [
    {
     "name": "stdout",
     "output_type": "stream",
     "text": [
      "Enter a country: Nigeria\n",
      "Abuja\n"
     ]
    }
   ],
   "source": [
    "with open(\"capitals.txt\") as capfile:\n",
    "    capdict =  {}\n",
    "    #capdict[\"France\"]= \"Paris\"\n",
    "    for line in capfile:\n",
    "        line= line.strip()\n",
    "        line= line.split()\n",
    "        #print(f\"country= {line[0]} and capital = {line[1]}\")\n",
    "        capdict[line[0]] = line[1]\n",
    "capital_search = input(\"Enter a country: \")\n",
    "#print(capdict)\n",
    "print(capdict[capital_search])"
   ]
  },
  {
   "cell_type": "code",
   "execution_count": 64,
   "id": "e36ea864",
   "metadata": {},
   "outputs": [
    {
     "name": "stdout",
     "output_type": "stream",
     "text": [
      "Enter a capital: Sofia\n",
      "Bulgaria\n"
     ]
    }
   ],
   "source": [
    "#OR\n",
    "with open(\"capitals.txt\") as capfile:\n",
    "    capdict =  {}\n",
    "    #capdict[\"France\"]= \"Paris\"\n",
    "    for line in capfile:\n",
    "        line= line.strip()\n",
    "        line= line.split()\n",
    "        #print(f\"country= {line[0]} and capital = {line[1]}\")\n",
    "        capdict[line[0]] = line[1]\n",
    "capital_search = input(\"Enter a capital: \")\n",
    "\n",
    "for country,capital in capdict.items():\n",
    "    if capital == capital_search:\n",
    "        print(country)"
   ]
  },
  {
   "cell_type": "code",
   "execution_count": 43,
   "id": "48886381",
   "metadata": {},
   "outputs": [
    {
     "name": "stdout",
     "output_type": "stream",
     "text": [
      "['Charlie', '07783622184', 'Peace', '07889225371', 'Sofiat', '07879444312', 'Stephen', '07732612645', 'Fionnuala', '07989111255', 'Alex', '07788232488', 'Kenechi', '07888989112']\n",
      "['Charlie', 'Peace', 'Sofiat', 'Stephen', 'Fionnuala', 'Alex', 'Kenechi']\n",
      "['07783622184', '07889225371', '07879444312', '07732612645', '07989111255', '07788232488', '07888989112']\n"
     ]
    }
   ],
   "source": [
    "names = []\n",
    "nametel = []\n",
    "telephone_numbers = []\n",
    "with open(\"telephone.txt\") as filein:\n",
    "    for line in filein:\n",
    "        l=line.strip()\n",
    "        nametel.append(l)\n",
    "    print(nametel)\n",
    "    for i in range(len(nametel)):\n",
    "        if i%2 == 0:\n",
    "            names.append(nametel[i])\n",
    "        else:\n",
    "            telephone_numbers.append(nametel[i])\n",
    "    print(names)\n",
    "    print(telephone_numbers)"
   ]
  },
  {
   "cell_type": "markdown",
   "id": "3cc9742a",
   "metadata": {},
   "source": [
    "Read in the people and what country they come from, from the file \"nationality.txt\". Ask a user to input a name and print out what coumtry they come from. If they enter \"all\" print out all the people and their country,"
   ]
  },
  {
   "cell_type": "code",
   "execution_count": null,
   "id": "c5c51909",
   "metadata": {},
   "outputs": [],
   "source": [
    "names_and_their_country=[]\n",
    "names=[]\n",
    "country=[]\n",
    "with open (\"nationality.txt\") as filein:\n",
    "    for line in filein:\n",
    "        l= line.strip()\n",
    "        n= l.split()\n",
    "        names_and_their_country.append(n)\n",
    "print(names_and_their_country)\n",
    "print(\"Select one of these names: Charlie, Peace, Sofiat, Stephen, Fionnuala, Alex or Kenechi\")\n",
    "name= input(\"Choose a name and find out where they are from: \")\n",
    "nameindex=  names_and_their_country.index(name)\n",
    "if name == nameindex:\n",
    "    print(nameindex+1)\n",
    " "
   ]
  },
  {
   "cell_type": "code",
   "execution_count": null,
   "id": "9a97d652",
   "metadata": {},
   "outputs": [],
   "source": [
    "names_and_their_country=[]\n",
    "\n",
    "with open (\"nationality.txt\") as filein:\n",
    "    for line in filein:\n",
    "        l=line.strip()\n",
    "        l=line.split()\n",
    "        names_and_their_country.append(l)\n",
    "    #print(names_and_their_country)\n",
    "print(\"Select one of these names: Charlie, Peace, Sofiat, Stephen, Fionnuala, Alex or Kenechi\")\n",
    "user= input(\"Input a name so you can find out the nationality of the person: \")\n",
    "for person in names_and_their_country:\n",
    "    if person[0] == names_and_their_country:\n",
    "        print(person[0], \"is from\", person[1])\n",
    "    \n",
    "        \n"
   ]
  },
  {
   "cell_type": "code",
   "execution_count": null,
   "id": "aa58aa4c",
   "metadata": {},
   "outputs": [],
   "source": [
    "#        names.append(n[0])\n",
    "#        country.append(n[1])\n",
    "#print(\"Select one of these names: Charlie, Peace, Sofiat, Stephen, Fionnuala, Alex or Kenechi\")\n",
    "#user=input(\"Choose a name and find out where they are from: \")\n",
    "#print(names)\n",
    "#print(country)\n",
    "#nameindex= country.index(user)\n",
    "#if user in names:\n",
    "#    print(nameindex[names])"
   ]
  },
  {
   "cell_type": "markdown",
   "id": "6ef9f72b",
   "metadata": {},
   "source": [
    "Read in the exam results of each of person from \"results.txt\" and print out the first and last result for each person"
   ]
  },
  {
   "cell_type": "code",
   "execution_count": null,
   "id": "46e5bb7b",
   "metadata": {},
   "outputs": [],
   "source": []
  },
  {
   "cell_type": "markdown",
   "id": "89933466",
   "metadata": {},
   "source": [
    "Read in the exam results from the file \"separator.txt\" and ask the user to put in a name and print out the average of their marks or that they are not in the file"
   ]
  },
  {
   "cell_type": "code",
   "execution_count": null,
   "id": "6af08e9b",
   "metadata": {},
   "outputs": [],
   "source": []
  },
  {
   "cell_type": "markdown",
   "id": "f386d776",
   "metadata": {},
   "source": [
    "Read in each of the people and their personal details \"personal details\" and ask the user to out in a person and one of their details and print out the correct information"
   ]
  },
  {
   "cell_type": "code",
   "execution_count": null,
   "id": "39af23b5",
   "metadata": {},
   "outputs": [],
   "source": []
  }
 ],
 "metadata": {
  "kernelspec": {
   "display_name": "Python 3 (ipykernel)",
   "language": "python",
   "name": "python3"
  },
  "language_info": {
   "codemirror_mode": {
    "name": "ipython",
    "version": 3
   },
   "file_extension": ".py",
   "mimetype": "text/x-python",
   "name": "python",
   "nbconvert_exporter": "python",
   "pygments_lexer": "ipython3",
   "version": "3.9.12"
  }
 },
 "nbformat": 4,
 "nbformat_minor": 5
}
