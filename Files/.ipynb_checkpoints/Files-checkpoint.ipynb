{
 "cells": [
  {
   "cell_type": "markdown",
   "id": "7605986e",
   "metadata": {},
   "source": [
    "Read in the data from the file \"names.txt\" and put all the names in a list and print them out"
   ]
  },
  {
   "cell_type": "code",
   "execution_count": null,
   "id": "ce772de6",
   "metadata": {},
   "outputs": [],
   "source": []
  },
  {
   "cell_type": "markdown",
   "id": "3e57dbab",
   "metadata": {},
   "source": [
    "Read in the names and telephone numbers from \"telephone.txt\" and store them. Then ask the user to input a name and print out the person's telephone number"
   ]
  },
  {
   "cell_type": "code",
   "execution_count": null,
   "id": "c05a3c80",
   "metadata": {},
   "outputs": [],
   "source": []
  },
  {
   "cell_type": "markdown",
   "id": "3cc9742a",
   "metadata": {},
   "source": [
    "Read in the people and what country they come from, from the file \"nationality.txt\". Ask a user to input a name and print out what coumtry they come from. If they enter \"all\" print out all the people and their country,"
   ]
  },
  {
   "cell_type": "code",
   "execution_count": null,
   "id": "c5c51909",
   "metadata": {},
   "outputs": [],
   "source": []
  },
  {
   "cell_type": "markdown",
   "id": "6ef9f72b",
   "metadata": {},
   "source": [
    "Read in the exam results of each of person from \"results.txt\" and print out the first and last result for each person"
   ]
  },
  {
   "cell_type": "code",
   "execution_count": null,
   "id": "46e5bb7b",
   "metadata": {},
   "outputs": [],
   "source": []
  },
  {
   "cell_type": "markdown",
   "id": "89933466",
   "metadata": {},
   "source": [
    "Read in the exam results from the file \"separator.txt\" and ask the user to put in a name and print out the average of their marks or that they are not in the file"
   ]
  },
  {
   "cell_type": "code",
   "execution_count": null,
   "id": "6af08e9b",
   "metadata": {},
   "outputs": [],
   "source": []
  },
  {
   "cell_type": "markdown",
   "id": "f386d776",
   "metadata": {},
   "source": [
    "Read in each of the people and their personal details \"personal details\" and ask the user to out in a person and one of their details and print out the correct information"
   ]
  },
  {
   "cell_type": "code",
   "execution_count": null,
   "id": "39af23b5",
   "metadata": {},
   "outputs": [],
   "source": []
  }
 ],
 "metadata": {
  "kernelspec": {
   "display_name": "Python 3 (ipykernel)",
   "language": "python",
   "name": "python3"
  },
  "language_info": {
   "codemirror_mode": {
    "name": "ipython",
    "version": 3
   },
   "file_extension": ".py",
   "mimetype": "text/x-python",
   "name": "python",
   "nbconvert_exporter": "python",
   "pygments_lexer": "ipython3",
   "version": "3.9.12"
  }
 },
 "nbformat": 4,
 "nbformat_minor": 5
}
