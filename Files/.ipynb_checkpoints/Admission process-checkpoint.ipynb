{
 "cells": [
  {
   "cell_type": "code",
   "execution_count": 1,
   "id": "3ff54e63",
   "metadata": {},
   "outputs": [
    {
     "name": "stdout",
     "output_type": "stream",
     "text": [
      "Names: ['Aliyyah Adebayo', 'Rahmat Sanusi', 'Moyosoluwa Opeseyitan', 'Paul Okoro', 'Wura Salami', 'Diala Chukwuemeka', 'Dada Stephen', 'Raheemah Akinlusi', 'Destiny Efiong', 'Lauretta Ibekwe', 'Bashir Alabi', 'Ife Akanwo', 'Mubashir Akande', 'Mercy Odunayo', 'Tomisin Oyewole', 'Tobi Odunayo', 'Chukwudum Okpalawka', 'Idera Oladepo', 'Oreoluwa Grace', 'Timilehin Adewole', 'Ruth Ologun', 'Ummiy Uthman', 'Mukhtar Rahmat', 'Joy Adebisi', 'OLayinka Adeyemi', 'Haneef Olanrewaju', 'Tamunobelema Brown', 'Jennifer Agbo', 'Abdullah Opeyemi', 'Grace Ilori']\n",
      "Age: ['17', '19', '18', '15', '29', '18', '18', '16', '15', '20', '18', '17', '17', '17', '17', '19', '18', '21', '17', '15', '16', '15', '20', '18', '15', '18', '16', '21', '18', '14']\n",
      "State: ['Ogun', 'Ondo', 'Oyo', 'Enugu', 'Rivers', 'Edo', 'Benin', 'Lagos', 'Edo', 'Cross River', 'Lagos', 'Osun', 'Osun', 'Osun', 'Osun', 'Oyo', 'Delta', 'Lagos', 'Enugu', 'Ondo', 'Ondo', 'Kaduna', 'Kebbi', 'Ogun', 'Ondo', 'Lagos', 'Rivers', 'Ekiti', 'Lagos', 'Ondo']\n",
      "Gender: ['Female', 'Female', 'Male', 'Male', 'Female', 'Male', 'Male', 'Female', 'Female', 'Female', 'Male', 'Female', 'Male', 'Female', 'Female', 'Male', 'Male', 'Female', 'Female', 'Male', 'Female', 'Female', 'Female', 'Female', 'Male', 'Male', 'Female', 'Female', 'Male', 'Female']\n",
      "Jamb scores: ['284', '306', '266', '278', '277', '307', '299', '272', '252', '307', '298', '288', '288', '330', '305', '298', '342', '268', '299', '288', '288', '292', '305', '244', '244', '266', '258', '271', '265', '288']\n",
      "Post utme scores: ['26', '24', '23', '27', '24', '26', '22', '26', '23', '24', '25', '27', '21', '21', '26', '27', '28', '21', '24', '26', '21', '23', '24', '23', '27', '21', '21', '23', '24', '21']\n",
      "Physics grades: ['A1', 'B3', 'C4', 'B3', 'C5', 'A1', 'A1', 'A1', 'C4', 'C4', 'A1', 'A1', 'A1', 'A1', 'A1', 'A1', 'A1', 'A1', 'A1', 'A1', 'A1', 'A1', 'B3', 'A1', 'A1', 'A1', 'A1', 'A1', 'A1', 'A1']\n",
      "Chemistry grades: ['A1', 'B3', 'B3', 'B3', 'C4', 'B3', 'B3', 'A1', 'B3', 'B3', 'B3', 'A1', 'C4', 'A1', 'A1', 'C4', 'A1', 'B3', 'C4', 'B3', 'A1', 'B3', 'B3', 'B3', 'C4', 'B3', 'B3', 'B3', 'C4', 'B3']\n",
      "Biology grades: ['A1', 'A1', 'B3', 'B3', 'B2', 'B3', 'B2', 'B3', 'B3', 'B3', 'C5', 'B2', 'C4', 'A1', 'B3', 'B3', 'A1', 'C4', 'C6', 'C4', 'A1', 'C4', 'B3', 'C4', 'C4', 'C4', 'C4', 'C4', 'B3', 'C4']\n",
      "Mathematics grades: ['B3', 'A1', 'C6', 'A1', 'B2', 'B2', 'B2', 'B2', 'C4', 'B2', 'B2', 'B2', 'B2', 'B2', 'B2', 'B2', 'B2', 'B2', 'B2', 'B2', 'B2', 'B2', 'B2', 'B2', 'C6', 'B2', 'B2', 'B2', 'B2', 'B2']\n",
      "English grades: ['B2', 'B3', 'A1', 'A1', 'B3', 'B2', 'B2', 'B2', 'B2', 'B2', 'B2', 'B2', 'B2', 'B2', 'B2', 'B2', 'B2', 'B2', 'B2', 'B2', 'B2', 'B2', 'B2', 'B2', 'B2', 'C4', 'B2', 'B2', 'C5', 'B2']\n",
      "Course: ['Dentistry', 'Dentistry', 'Dentistry', 'Dentistry', 'Dentistry', 'Dentistry', 'Pharmacy', 'Pharmacy', 'Pharmacy', 'Pharmacy', 'Pharmacy', 'Pharmacy', 'Medicine', 'Medicine', 'Medicine', 'Medicine', 'Medicine', 'Medicine', 'Medicine', 'Medicine', 'Nursing', 'Nursing', 'Nursing', 'Nursing', 'Medical lab science', 'Medical lab science', 'Medical lab science', 'Medical lab science', 'Microbiology', 'Microbiology']\n"
     ]
    }
   ],
   "source": [
    "#namtel puts all the defined elemnts into a list\n",
    "namtel=[]\n",
    "names = []\n",
    "age =[]\n",
    "state =[] \n",
    "gender =[]\n",
    "jamb_score=[] \n",
    "post_utme_score= []\n",
    "waec_subjects=[] \n",
    "physics_grade = []\n",
    "chemistry_grade = []\n",
    "biology_grade = []\n",
    "mathematics_grade = []\n",
    "english_grade =[]\n",
    "course= []\n",
    "\n",
    "with open (\"admissiondetails.txt\") as admissiondetailsFile:\n",
    "    for line in admissiondetailsFile:\n",
    "        l= line.strip()\n",
    "        #print(l)\n",
    "        namtel.append(l)\n",
    "#print(namtel)\n",
    "#print(len(namtel))\n",
    "    for i in range(len(namtel)):\n",
    "        #print(i, namtel[i])\n",
    "        if i%12 == 0:\n",
    "            names.append(namtel[i])\n",
    "        elif i%12 == 1:\n",
    "            age.append(namtel[i])\n",
    "        elif i%12 == 2:\n",
    "            state.append(namtel[i])\n",
    "        elif i%12 == 3:\n",
    "            gender.append(namtel[i])\n",
    "        elif i%12 == 4:\n",
    "            jamb_score.append(namtel[i])\n",
    "        elif i%12 == 5:\n",
    "            post_utme_score.append(namtel[i])\n",
    "        elif i%12 == 6:\n",
    "            physics_grade.append(namtel[i])\n",
    "        elif i%12 == 7:\n",
    "             chemistry_grade.append(namtel[i])\n",
    "        elif i%12 == 8:\n",
    "            biology_grade.append(namtel[i])\n",
    "        elif i%12 == 9:\n",
    "            mathematics_grade.append(namtel[i])\n",
    "        elif i%12 == 10:\n",
    "            english_grade.append(namtel[i])\n",
    "        elif i%12 == 11:\n",
    "            course.append(namtel[i])\n",
    "    print(\"Names:\",names)\n",
    "    print(\"Age:\",age)\n",
    "    print(\"State:\",state)\n",
    "    print(\"Gender:\",gender)\n",
    "    print(\"Jamb scores:\",jamb_score)\n",
    "    print(\"Post utme scores:\",post_utme_score)\n",
    "    print(\"Physics grades:\",physics_grade)\n",
    "    print(\"Chemistry grades:\",chemistry_grade)\n",
    "    print(\"Biology grades:\",biology_grade)\n",
    "    print(\"Mathematics grades:\",mathematics_grade)\n",
    "    print(\"English grades:\",english_grade)\n",
    "    print(\"Course:\",course)\n",
    "    \n"
   ]
  },
  {
   "cell_type": "code",
   "execution_count": 2,
   "id": "683bafe8",
   "metadata": {},
   "outputs": [],
   "source": [
    "#I am trying to create a list of names of people that met the criteria of the admission system\n",
    "# used in unilag to determine who get admission"
   ]
  },
  {
   "cell_type": "code",
   "execution_count": 3,
   "id": "27a91eb7",
   "metadata": {},
   "outputs": [],
   "source": [
    "#Since I am admitting people who pass the cut off mark from 6 dep, i need to define each course \n",
    "#cut off by coverting their jamb result to 50, adding it with the 30 marks from their post utme and then \n",
    "#changing their waec result grade to different points,where the maximum number of point you can get\n",
    "#is 20. We are doing this for 5 subjects which inludes(phy,chem,bio,math,eng)\n",
    "#We then will find the aggregate score of each person and get the cut off mark by finding the\n",
    "#total aggregate for people in that course divided by number of people that applied to that course"
   ]
  },
  {
   "cell_type": "code",
   "execution_count": 4,
   "id": "79890348",
   "metadata": {},
   "outputs": [
    {
     "name": "stdout",
     "output_type": "stream",
     "text": [
      "18.8 35.5 26 80.3\n",
      "17.6 38.25 24 79.85\n",
      "15.2 33.25 23 71.45\n",
      "17.6 34.75 27 79.35\n",
      "15.599999999999998 34.625 24 74.225\n",
      "17.6 38.375 26 81.975\n",
      "The dentistry cut off mark is 77.85833333333333\n"
     ]
    }
   ],
   "source": [
    "#dentistry\n",
    "dentistry_jamb_points= []\n",
    "for i in jamb_score[0:6]:\n",
    "    #print(int(i))\n",
    "    jamb_point= int(i)/8\n",
    "    dentistry_jamb_points.append(jamb_point)\n",
    "#print(dentistry_jamb_points)\n",
    "    \n",
    "dentistry_post_utme_scores= []\n",
    "for i in post_utme_score[0:6]:\n",
    "    dentistry_post_utme_scores.append(int(i))\n",
    "    \n",
    "#print(dentistry_post_utme_scores)\n",
    "    \n",
    "\n",
    "def subject_grade(x,y,z):\n",
    "    waec_points= []\n",
    "    for j in x[y:z]:\n",
    "        if j == \"A1\":\n",
    "            waec_points.append(4)\n",
    "        elif j == \"B2\":\n",
    "            waec_points.append(3.6)\n",
    "        elif j == \"B3\":\n",
    "            waec_points.append(3.2)\n",
    "        elif j == \"C4\":\n",
    "            waec_points.append(2.8)\n",
    "        elif j == \"C5\":\n",
    "            waec_points.append(2.4)\n",
    "        elif j == \"C6\":\n",
    "            waec_points.append(2.0)\n",
    "        else:\n",
    "            waec_points.append(0)\n",
    "    return waec_points\n",
    "    print(waec_points)\n",
    "#call function and store in a variable\n",
    "physics= subject_grade(physics_grade, 0,6)\n",
    "chemistry= subject_grade(chemistry_grade, 0,6)\n",
    "biology= subject_grade(biology_grade, 0,6)\n",
    "mathematics= subject_grade(mathematics_grade, 0,6)\n",
    "english= subject_grade(english_grade, 0,6)\n",
    "dentistry_grading= 0\n",
    "for i in range(6):\n",
    "    dentistry_total=physics[i] + chemistry[i] + biology[i] + mathematics[i] + english[i]\n",
    "    #above is the dentistry waec total points\n",
    "    #the below code shows the total aggregate of a person \n",
    "    dentistry_aggregate = dentistry_total + dentistry_jamb_points[i] + dentistry_post_utme_scores[i]\n",
    "    #the below code is defining the total aggregate point of the 6 ppl from dentistry\n",
    "    dentistry_grading += dentistry_aggregate\n",
    "    #print(dentistry_aggregate)\n",
    "    print(dentistry_total, dentistry_jamb_points[i], dentistry_post_utme_scores[i], dentistry_aggregate)  \n",
    "dentistry_cut_off = dentistry_grading/6\n",
    "print(\"The dentistry cut off mark is\", dentistry_cut_off)\n",
    "\n",
    "    "
   ]
  },
  {
   "cell_type": "code",
   "execution_count": 5,
   "id": "1ace09d2",
   "metadata": {},
   "outputs": [
    {
     "name": "stdout",
     "output_type": "stream",
     "text": [
      "18.0 37.375 22 77.375\n",
      "18.4 34.0 26 78.4\n",
      "15.6 31.5 23 70.1\n",
      "16.4 38.375 24 78.775\n",
      "16.8 37.25 25 79.05\n",
      "18.8 36.0 27 81.8\n",
      "The pharmacy cut off mark is 77.58333333333333\n"
     ]
    }
   ],
   "source": [
    "#pharmacy\n",
    "pharmacy_jamb_points= []\n",
    "for i in jamb_score[6:12]:\n",
    "    #print(int(i))\n",
    "    jamb_point= int(i)/8\n",
    "    pharmacy_jamb_points.append(jamb_point)\n",
    "#print(dentistry_jamb_points)\n",
    "    \n",
    "pharmacy_post_utme_scores= []\n",
    "for i in post_utme_score[6:12]:\n",
    "    pharmacy_post_utme_scores.append(int(i))\n",
    "    \n",
    "#print(pharmacy_post_utme_scores)\n",
    "    \n",
    "\n",
    "def subject_grade(x,y,z):\n",
    "    waec_points= []\n",
    "    for j in x[y:z]:\n",
    "        if j == \"A1\":\n",
    "            waec_points.append(4)\n",
    "        elif j == \"B2\":\n",
    "            waec_points.append(3.6)\n",
    "        elif j == \"B3\":\n",
    "            waec_points.append(3.2)\n",
    "        elif j == \"C4\":\n",
    "            waec_points.append(2.8)\n",
    "        elif j == \"C5\":\n",
    "            waec_points.append(2.4)\n",
    "        elif j == \"C6\":\n",
    "            waec_points.append(2.0)\n",
    "        else:\n",
    "            waec_points.append(0)\n",
    "    return waec_points\n",
    "    print(waec_points)\n",
    "physics= subject_grade(physics_grade, 6,12)\n",
    "chemistry= subject_grade(chemistry_grade, 6,12)\n",
    "biology= subject_grade(biology_grade, 6,12)\n",
    "mathematics= subject_grade(mathematics_grade, 6,12)\n",
    "english= subject_grade(english_grade, 6,12)\n",
    "pharmacy_grading= 0\n",
    "for i in range(6):\n",
    "    pharmacy_total=physics[i] + chemistry[i] + biology[i] + mathematics[i] + english[i]\n",
    "    pharmacy_aggregate = pharmacy_total + pharmacy_jamb_points[i] + pharmacy_post_utme_scores[i]\n",
    "    pharmacy_grading += pharmacy_aggregate\n",
    "    #print(pharmacy_aggregate)\n",
    "    print(pharmacy_total, pharmacy_jamb_points[i], pharmacy_post_utme_scores[i], pharmacy_aggregate)  \n",
    "pharmacy_cut_off = pharmacy_grading/6\n",
    "print(\"The pharmacy cut off mark is\", pharmacy_cut_off)\n",
    "\n",
    "    "
   ]
  },
  {
   "cell_type": "code",
   "execution_count": 6,
   "id": "b586a528",
   "metadata": {},
   "outputs": [
    {
     "name": "stdout",
     "output_type": "stream",
     "text": [
      "16.8 36.0 21 73.8\n",
      "19.2 41.25 21 81.45\n",
      "18.4 38.125 26 82.525\n",
      "17.2 37.25 27 81.45\n",
      "19.2 42.75 28 89.95\n",
      "17.2 33.5 21 71.7\n",
      "16.0 37.375 24 77.375\n",
      "17.2 36.0 26 79.2\n",
      "The medicine cut off mark is 79.68125\n"
     ]
    }
   ],
   "source": [
    "#medicine\n",
    "medicine_jamb_points= []\n",
    "for i in jamb_score[12:20]:\n",
    "    #print(int(i))\n",
    "    jamb_point= int(i)/8\n",
    "    medicine_jamb_points.append(jamb_point)\n",
    "#print(medicine_jamb_points)\n",
    "    \n",
    "medicine_post_utme_scores= []\n",
    "for i in post_utme_score[12:20]:\n",
    "    medicine_post_utme_scores.append(int(i))\n",
    "    \n",
    "#print(medicine_post_utme_scores)\n",
    "\n",
    "def subject_grade(x,y,z):\n",
    "    waec_points= []\n",
    "    for j in x[y:z]:\n",
    "        if j == \"A1\":\n",
    "            waec_points.append(4)\n",
    "        elif j == \"B2\":\n",
    "            waec_points.append(3.6)\n",
    "        elif j == \"B3\":\n",
    "            waec_points.append(3.2)\n",
    "        elif j == \"C4\":\n",
    "            waec_points.append(2.8)\n",
    "        elif j == \"C5\":\n",
    "            waec_points.append(2.4)\n",
    "        elif j == \"C6\":\n",
    "            waec_points.append(2.0)\n",
    "        else:\n",
    "            waec_points.append(0)\n",
    "    return waec_points\n",
    "    print(waec_points)\n",
    "physics= subject_grade(physics_grade, 12,20)\n",
    "chemistry= subject_grade(chemistry_grade, 12,20)\n",
    "biology= subject_grade(biology_grade, 12,20)\n",
    "mathematics= subject_grade(mathematics_grade, 12,20)\n",
    "english= subject_grade(english_grade, 12,20)\n",
    "medicine_grading= 0\n",
    "for i in range(8):\n",
    "    medicine_total=physics[i] + chemistry[i] + biology[i] + mathematics[i] + english[i]\n",
    "    medicine_aggregate = medicine_total + medicine_jamb_points[i] + medicine_post_utme_scores[i]\n",
    "    medicine_grading += medicine_aggregate\n",
    "    #print(pharmacy_aggregate)\n",
    "    print(medicine_total, medicine_jamb_points[i], medicine_post_utme_scores[i], medicine_aggregate)  \n",
    "medicine_cut_off = medicine_grading/8\n",
    "print(\"The medicine cut off mark is\", medicine_cut_off)\n",
    "\n",
    "    "
   ]
  },
  {
   "cell_type": "code",
   "execution_count": 7,
   "id": "ee896466",
   "metadata": {},
   "outputs": [
    {
     "name": "stdout",
     "output_type": "stream",
     "text": [
      "19.2 36.0 21 76.2\n",
      "17.2 36.5 23 76.7\n",
      "16.8 38.125 24 78.925\n",
      "17.2 30.5 23 70.7\n",
      "The nursing cut off mark is 75.63125\n"
     ]
    }
   ],
   "source": [
    "#nursing\n",
    "nursing_jamb_points= []\n",
    "for i in jamb_score[20:24]:\n",
    "    #print(int(i))\n",
    "    jamb_point= int(i)/8\n",
    "    nursing_jamb_points.append(jamb_point)\n",
    "#print(nursing_jamb_points)\n",
    "    \n",
    "nursing_post_utme_scores= []\n",
    "for i in post_utme_score[20:24]:\n",
    "    nursing_post_utme_scores.append(int(i))\n",
    "    \n",
    "#print(nursing_post_utme_scores)\n",
    "\n",
    "def subject_grade(x,y,z):\n",
    "    waec_points= []\n",
    "    for j in x[y:z]:\n",
    "        if j == \"A1\":\n",
    "            waec_points.append(4)\n",
    "        elif j == \"B2\":\n",
    "            waec_points.append(3.6)\n",
    "        elif j == \"B3\":\n",
    "            waec_points.append(3.2)\n",
    "        elif j == \"C4\":\n",
    "            waec_points.append(2.8)\n",
    "        elif j == \"C5\":\n",
    "            waec_points.append(2.4)\n",
    "        elif j == \"C6\":\n",
    "            waec_points.append(2.0)\n",
    "        else:\n",
    "            waec_points.append(0)\n",
    "    return waec_points\n",
    "    print(waec_points)\n",
    "physics= subject_grade(physics_grade, 20,24)\n",
    "chemistry= subject_grade(chemistry_grade, 20,24)\n",
    "biology= subject_grade(biology_grade, 20,24)\n",
    "mathematics= subject_grade(mathematics_grade, 20,24)\n",
    "english= subject_grade(english_grade, 20,24)\n",
    "nursing_grading= 0\n",
    "for i in range(4):\n",
    "    nursing_total=physics[i] + chemistry[i] + biology[i] + mathematics[i] + english[i]\n",
    "    nursing_aggregate = nursing_total + nursing_jamb_points[i] + nursing_post_utme_scores[i]\n",
    "    nursing_grading += nursing_aggregate\n",
    "    #print(pharmacy_aggregate)\n",
    "    print(nursing_total, nursing_jamb_points[i], nursing_post_utme_scores[i], nursing_aggregate)  \n",
    "nursing_cut_off = nursing_grading/4\n",
    "print(\"The nursing cut off mark is\", nursing_cut_off)\n",
    "\n",
    "    "
   ]
  },
  {
   "cell_type": "code",
   "execution_count": 8,
   "id": "b9694135",
   "metadata": {},
   "outputs": [
    {
     "name": "stdout",
     "output_type": "stream",
     "text": [
      "15.2 30.5 27 72.7\n",
      "16.4 33.25 21 70.65\n",
      "17.2 32.25 21 70.45\n",
      "17.2 33.875 23 74.075\n",
      "The medical lab science cut off mark is 71.96875\n"
     ]
    }
   ],
   "source": [
    "#medical_lab_science\n",
    "medical_lab_science_jamb_points= []\n",
    "for i in jamb_score[24:28]:\n",
    "    #print(int(i))\n",
    "    jamb_point= int(i)/8\n",
    "    medical_lab_science_jamb_points.append(jamb_point)\n",
    "#print(medical_lab_science_jamb_points)\n",
    "    \n",
    "medical_lab_science_post_utme_scores= []\n",
    "for i in post_utme_score[24:28]:\n",
    "    medical_lab_science_post_utme_scores.append(int(i))\n",
    "    \n",
    "#print(medical_lab_science_post_utme_scores)\n",
    "    \n",
    "def subject_grade(x,y,z):\n",
    "    waec_points= []\n",
    "    for j in x[y:z]:\n",
    "        if j == \"A1\":\n",
    "            waec_points.append(4)\n",
    "        elif j == \"B2\":\n",
    "            waec_points.append(3.6)\n",
    "        elif j == \"B3\":\n",
    "            waec_points.append(3.2)\n",
    "        elif j == \"C4\":\n",
    "            waec_points.append(2.8)\n",
    "        elif j == \"C5\":\n",
    "            waec_points.append(2.4)\n",
    "        elif j == \"C6\":\n",
    "            waec_points.append(2.0)\n",
    "        else:\n",
    "            waec_points.append(0)\n",
    "    return waec_points\n",
    "    print(waec_points)\n",
    "physics= subject_grade(physics_grade, 24,28)\n",
    "chemistry= subject_grade(chemistry_grade, 24,28)\n",
    "biology= subject_grade(biology_grade, 24,28)\n",
    "mathematics= subject_grade(mathematics_grade, 24,28)\n",
    "english= subject_grade(english_grade, 24,28)\n",
    "medical_lab_science_grading= 0\n",
    "for i in range(4):\n",
    "    medical_lab_science_total=physics[i] + chemistry[i] + biology[i] + mathematics[i] + english[i]\n",
    "    medical_lab_science_aggregate = medical_lab_science_total + medical_lab_science_jamb_points[i] + medical_lab_science_post_utme_scores[i]\n",
    "    medical_lab_science_grading += medical_lab_science_aggregate\n",
    "    #print(medical_lab_science_aggregate)\n",
    "    print( medical_lab_science_total, medical_lab_science_jamb_points[i], medical_lab_science_post_utme_scores[i], medical_lab_science_aggregate)  \n",
    "medical_lab_science_cut_off = medical_lab_science_grading/4\n",
    "print(\"The medical lab science cut off mark is\", medical_lab_science_cut_off)\n",
    "\n",
    "\n",
    "    "
   ]
  },
  {
   "cell_type": "code",
   "execution_count": 9,
   "id": "5ae9508e",
   "metadata": {},
   "outputs": [
    {
     "name": "stdout",
     "output_type": "stream",
     "text": [
      "16.0 33.125 24 73.125\n",
      "17.2 36.0 21 74.2\n",
      "The microbiology cut off mark is 73.6625\n"
     ]
    }
   ],
   "source": [
    "#microbiology\n",
    "microbiology_jamb_points= []\n",
    "for i in jamb_score[28:30]:\n",
    "    #print(int(i))\n",
    "    jamb_point= int(i)/8\n",
    "    microbiology_jamb_points.append(jamb_point)\n",
    "#print(microbiology_jamb_points)\n",
    "    \n",
    "microbiology_post_utme_scores= []\n",
    "for i in post_utme_score[28:30]:\n",
    "    microbiology_post_utme_scores.append(int(i))\n",
    "    \n",
    "#print(microbiology_post_utme_scores)\n",
    "    \n",
    "def agg(jamb, post, x, y, z):\n",
    "    waec_point = subject_grade(x, y, z)\n",
    "\n",
    "def subject_grade(x,y,z):\n",
    "    waec_points= []\n",
    "    for j in x[y:z]:\n",
    "        if j == \"A1\":\n",
    "            waec_points.append(4)\n",
    "        elif j == \"B2\":\n",
    "            waec_points.append(3.6)\n",
    "        elif j == \"B3\":\n",
    "            waec_points.append(3.2)\n",
    "        elif j == \"C4\":\n",
    "            waec_points.append(2.8)\n",
    "        elif j == \"C5\":\n",
    "            waec_points.append(2.4)\n",
    "        elif j == \"C6\":\n",
    "            waec_points.append(2.0)\n",
    "        else:\n",
    "            waec_points.append(0)\n",
    "    return waec_points\n",
    "    print(waec_points)\n",
    "physics= subject_grade(physics_grade, 28,30)\n",
    "chemistry= subject_grade(chemistry_grade, 28,30)\n",
    "biology= subject_grade(biology_grade, 28,30)\n",
    "mathematics= subject_grade(mathematics_grade, 28,30)\n",
    "english= subject_grade(english_grade, 28,30)\n",
    "microbiology_grading= 0\n",
    "for i in range(2):\n",
    "    microbiology_total=physics[i] + chemistry[i] + biology[i] + mathematics[i] + english[i]\n",
    "    microbiology_aggregate = microbiology_total + microbiology_jamb_points[i] + microbiology_post_utme_scores[i]\n",
    "    microbiology_grading += microbiology_aggregate\n",
    "    #print(microbiology_aggregate)\n",
    "    print(microbiology_total, microbiology_jamb_points[i], microbiology_post_utme_scores[i], microbiology_aggregate)  \n",
    "microbiology_cut_off = microbiology_grading/2\n",
    "print(\"The microbiology cut off mark is\", microbiology_cut_off)\n",
    "\n",
    "        "
   ]
  },
  {
   "cell_type": "code",
   "execution_count": 10,
   "id": "4f908a51",
   "metadata": {},
   "outputs": [
    {
     "name": "stdout",
     "output_type": "stream",
     "text": [
      "Student aggregate: [80.3, 79.85, 71.45, 79.35, 74.225, 81.975, 77.375, 78.4, 70.1, 78.775, 79.05, 81.8, 73.8, 81.45, 82.525, 81.45, 89.95, 71.7, 77.375, 79.2, 76.2, 76.7, 78.925, 70.7, 72.7, 70.65, 70.45, 74.075, 73.125, 74.2]\n"
     ]
    }
   ],
   "source": [
    "#dealing with everybody's subject grade\n",
    "def subject_grade_(x):\n",
    "        if x == \"A1\":\n",
    "            return (4)\n",
    "        elif x == \"B2\":\n",
    "            return (3.6)\n",
    "        elif x == \"B3\":\n",
    "             return (3.2)\n",
    "        elif x == \"C4\":\n",
    "            return (2.8)\n",
    "        elif x == \"C5\":\n",
    "            return (2.4)\n",
    "        elif x == \"C6\":\n",
    "            return (2.0)\n",
    "        else:\n",
    "            return (0)\n",
    "#finding each student's aggregate\n",
    "student_agg = []\n",
    "for i in range(len(names)):\n",
    "    waec_total=subject_grade_(physics_grade[i]) + subject_grade_(chemistry_grade[i]) + subject_grade_(biology_grade[i]) + subject_grade_(mathematics_grade[i]) +subject_grade_( english_grade[i])\n",
    "    #find everybody's waec point above\n",
    "    aggregate = waec_total + int(jamb_score[i])/8 + int( post_utme_score[i])\n",
    "    student_agg.append(aggregate)\n",
    "    \n",
    "print(\"Student aggregate:\",student_agg)"
   ]
  },
  {
   "cell_type": "code",
   "execution_count": 11,
   "id": "1b2bf998",
   "metadata": {},
   "outputs": [],
   "source": [
    "#Now we know our the cut off mark for each dept. we used a dictionary to define key and value"
   ]
  },
  {
   "cell_type": "code",
   "execution_count": 12,
   "id": "3f583787",
   "metadata": {},
   "outputs": [],
   "source": [
    "#fixed cut off \n",
    "fixed_aggregate = {\"Medicine\": medicine_cut_off, \"Dentistry\": dentistry_cut_off, \"Pharmacy\": pharmacy_cut_off, \"Nursing\": nursing_cut_off, \"Medical lab science\": medical_lab_science_cut_off, \"Microbiology\": microbiology_cut_off}"
   ]
  },
  {
   "cell_type": "code",
   "execution_count": 13,
   "id": "3ea08cce",
   "metadata": {},
   "outputs": [
    {
     "data": {
      "text/plain": [
       "{'Dentistry': ['Aliyyah Adebayo',\n",
       "  'Rahmat Sanusi',\n",
       "  'Moyosoluwa Opeseyitan',\n",
       "  'Paul Okoro',\n",
       "  'Wura Salami',\n",
       "  'Diala Chukwuemeka'],\n",
       " 'Pharmacy': ['Dada Stephen',\n",
       "  'Raheemah Akinlusi',\n",
       "  'Destiny Efiong',\n",
       "  'Lauretta Ibekwe',\n",
       "  'Bashir Alabi',\n",
       "  'Ife Akanwo'],\n",
       " 'Medicine': ['Mubashir Akande',\n",
       "  'Mercy Odunayo',\n",
       "  'Tomisin Oyewole',\n",
       "  'Tobi Odunayo',\n",
       "  'Chukwudum Okpalawka',\n",
       "  'Idera Oladepo',\n",
       "  'Oreoluwa Grace',\n",
       "  'Timilehin Adewole'],\n",
       " 'Nursing': ['Ruth Ologun', 'Ummiy Uthman', 'Mukhtar Rahmat', 'Joy Adebisi'],\n",
       " 'Medical lab science': ['OLayinka Adeyemi',\n",
       "  'Haneef Olanrewaju',\n",
       "  'Tamunobelema Brown',\n",
       "  'Jennifer Agbo'],\n",
       " 'Microbiology': ['Abdullah Opeyemi', 'Grace Ilori']}"
      ]
     },
     "execution_count": 13,
     "metadata": {},
     "output_type": "execute_result"
    }
   ],
   "source": [
    "student_in_course = {}\n",
    "for i in range(len(course)):\n",
    "    if course[i] in student_in_course:\n",
    "        student_in_course[course[i]].append(names[i])\n",
    "    else:\n",
    "        student_in_course[course[i]] = [names[i]]\n",
    "#the else statement is if there is 1 course for only one name        \n",
    "student_in_course"
   ]
  },
  {
   "cell_type": "code",
   "execution_count": 14,
   "id": "e230a121",
   "metadata": {},
   "outputs": [
    {
     "name": "stdout",
     "output_type": "stream",
     "text": [
      "Names of qualified dentistry student in the year 1 include:  ['Aliyyah Adebayo', 'Rahmat Sanusi', 'Paul Okoro', 'Diala Chukwuemeka']\n"
     ]
    }
   ],
   "source": [
    "dentistry_admission_list= []\n",
    "for name in student_in_course[\"Dentistry\"]:\n",
    "    index = names.index(name)\n",
    "    if student_agg[index] >= fixed_aggregate[\"Dentistry\"]:\n",
    "        dentistry_admission_list.append(name)\n",
    "print(\"Names of qualified dentistry student in the year 1 include: \",dentistry_admission_list)"
   ]
  },
  {
   "cell_type": "code",
   "execution_count": 15,
   "id": "6f06aebf",
   "metadata": {},
   "outputs": [
    {
     "name": "stdout",
     "output_type": "stream",
     "text": [
      "Names of qualified pharmacy student in the year 1 include:  ['Raheemah Akinlusi', 'Lauretta Ibekwe', 'Bashir Alabi', 'Ife Akanwo']\n"
     ]
    }
   ],
   "source": [
    "pharmacy_admission_list= []\n",
    "for name in student_in_course[\"Pharmacy\"]:\n",
    "    index = names.index(name)\n",
    "    if student_agg[index] >= fixed_aggregate[\"Pharmacy\"]:\n",
    "        pharmacy_admission_list.append(name)\n",
    "print(\"Names of qualified pharmacy student in the year 1 include: \",pharmacy_admission_list)"
   ]
  },
  {
   "cell_type": "code",
   "execution_count": 16,
   "id": "af6a2cfc",
   "metadata": {},
   "outputs": [
    {
     "name": "stdout",
     "output_type": "stream",
     "text": [
      "Names of qualified medicine student in the year 1 include:  ['Mercy Odunayo', 'Tomisin Oyewole', 'Tobi Odunayo', 'Chukwudum Okpalawka']\n"
     ]
    }
   ],
   "source": [
    "medicine_admission_list= []\n",
    "for name in student_in_course[\"Medicine\"]:\n",
    "    index = names.index(name)\n",
    "    if student_agg[index] >= fixed_aggregate[\"Medicine\"]:\n",
    "        medicine_admission_list.append(name)\n",
    "print(\"Names of qualified medicine student in the year 1 include: \",medicine_admission_list)"
   ]
  },
  {
   "cell_type": "code",
   "execution_count": 17,
   "id": "c89ff9d4",
   "metadata": {},
   "outputs": [
    {
     "name": "stdout",
     "output_type": "stream",
     "text": [
      "Names of qualified nursing student in the year 1 include:  ['Ruth Ologun', 'Ummiy Uthman', 'Mukhtar Rahmat']\n"
     ]
    }
   ],
   "source": [
    "nursing_admission_list= []\n",
    "for name in student_in_course[\"Nursing\"]:\n",
    "    index = names.index(name)\n",
    "    if student_agg[index] >= fixed_aggregate[\"Nursing\"]:\n",
    "        nursing_admission_list.append(name)\n",
    "print(\"Names of qualified nursing student in the year 1 include: \",nursing_admission_list)"
   ]
  },
  {
   "cell_type": "code",
   "execution_count": 18,
   "id": "d57b5032",
   "metadata": {},
   "outputs": [
    {
     "name": "stdout",
     "output_type": "stream",
     "text": [
      "Names of qualified medical lab science student in the year 1 include:  ['OLayinka Adeyemi', 'Jennifer Agbo']\n"
     ]
    }
   ],
   "source": [
    "medical_lab_science_admission_list= []\n",
    "for name in student_in_course[\"Medical lab science\"]:\n",
    "    index = names.index(name)\n",
    "    #print(fixed_aggregate[\"Medical lab science\"])\n",
    "    if student_agg[index] >= fixed_aggregate[\"Medical lab science\"]:\n",
    "        medical_lab_science_admission_list.append(name)\n",
    "print(\"Names of qualified medical lab science student in the year 1 include: \",medical_lab_science_admission_list)"
   ]
  },
  {
   "cell_type": "code",
   "execution_count": 19,
   "id": "1fd51bd2",
   "metadata": {},
   "outputs": [
    {
     "name": "stdout",
     "output_type": "stream",
     "text": [
      "Names of qualified microbiology student in the year 1 include:  ['Grace Ilori']\n"
     ]
    }
   ],
   "source": [
    "microbiology_admission_list= []\n",
    "for name in student_in_course[\"Microbiology\"]:\n",
    "    index = names.index(name)\n",
    "    if student_agg[index] >= fixed_aggregate[\"Microbiology\"]:\n",
    "        microbiology_admission_list.append(name)\n",
    "print(\"Names of qualified microbiology student in the year 1 include: \",microbiology_admission_list)"
   ]
  },
  {
   "cell_type": "code",
   "execution_count": 20,
   "id": "a4f4f06f",
   "metadata": {},
   "outputs": [],
   "source": [
    "#total number of people that met the criterion for admission include"
   ]
  },
  {
   "cell_type": "code",
   "execution_count": 21,
   "id": "bea9bf3d",
   "metadata": {},
   "outputs": [],
   "source": [
    "shorlistedstudents=len(dentistry_admission_list)+len(pharmacy_admission_list)+len(medicine_admission_list)+len(nursing_admission_list)+len(medical_lab_science_admission_list)+len(microbiology_admission_list)"
   ]
  },
  {
   "cell_type": "code",
   "execution_count": 24,
   "id": "dc820356",
   "metadata": {},
   "outputs": [
    {
     "name": "stdout",
     "output_type": "stream",
     "text": [
      "Out of 30 students that applied to unilag, 18 students were selected based on the admission criteria\n"
     ]
    }
   ],
   "source": [
    "print(\"Out of 30 students that applied to unilag,\",shorlistedstudents,\"students were selected based on the admission criteria\")"
   ]
  },
  {
   "cell_type": "code",
   "execution_count": 25,
   "id": "fba625bd",
   "metadata": {},
   "outputs": [
    {
     "name": "stdout",
     "output_type": "stream",
     "text": [
      "THANK YOU EVERYBODY FOR YOUR ATTENTION\n"
     ]
    }
   ],
   "source": [
    "print(\"THANK YOU EVERYBODY FOR YOUR ATTENTION\")"
   ]
  },
  {
   "cell_type": "code",
   "execution_count": null,
   "id": "ac5bd682",
   "metadata": {},
   "outputs": [],
   "source": []
  }
 ],
 "metadata": {
  "kernelspec": {
   "display_name": "Python 3 (ipykernel)",
   "language": "python",
   "name": "python3"
  },
  "language_info": {
   "codemirror_mode": {
    "name": "ipython",
    "version": 3
   },
   "file_extension": ".py",
   "mimetype": "text/x-python",
   "name": "python",
   "nbconvert_exporter": "python",
   "pygments_lexer": "ipython3",
   "version": "3.9.12"
  }
 },
 "nbformat": 4,
 "nbformat_minor": 5
}
