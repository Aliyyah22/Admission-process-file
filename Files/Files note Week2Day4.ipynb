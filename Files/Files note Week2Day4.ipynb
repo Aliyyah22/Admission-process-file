{
 "cells": [
  {
   "cell_type": "code",
   "execution_count": 2,
   "id": "4b06fbac",
   "metadata": {},
   "outputs": [
    {
     "name": "stdout",
     "output_type": "stream",
     "text": [
      "Nigeria\n",
      " 8\n",
      "Nigeria 7\n",
      "Scotland\n",
      " 9\n",
      "Scotland 8\n",
      "England\n",
      " 8\n",
      "England 7\n",
      "Ireland\n",
      " 8\n",
      "Ireland 7\n",
      "Bulgaria 8\n",
      "Bulgaria 8\n"
     ]
    }
   ],
   "source": [
    "with open(\"country.txt\") as filein:\n",
    "    for line in filein:\n",
    "        l=line.strip()\n",
    "        print(line,len(line))\n",
    "        print(l,len(l))\n",
    "        "
   ]
  },
  {
   "cell_type": "code",
   "execution_count": 4,
   "id": "284465b0",
   "metadata": {},
   "outputs": [
    {
     "name": "stdout",
     "output_type": "stream",
     "text": [
      "Nigeria Abuja\n",
      " 14\n",
      "Nigeria Abuja 13\n",
      "Scotland Edinburgh\n",
      " 19\n",
      "Scotland Edinburgh 18\n",
      "England London\n",
      " 15\n",
      "England London 14\n",
      "Ireland Dublin\n",
      " 15\n",
      "Ireland Dublin 14\n",
      "Bulgaria Sofia 14\n",
      "Bulgaria Sofia 14\n"
     ]
    }
   ],
   "source": [
    "with open(\"captials.txt\") as filein:\n",
    "    for line in filein:\n",
    "        l=line.strip()\n",
    "        print(line,len(line))\n",
    "        print(l,len(l))"
   ]
  },
  {
   "cell_type": "code",
   "execution_count": 6,
   "id": "a6110415",
   "metadata": {},
   "outputs": [
    {
     "name": "stdout",
     "output_type": "stream",
     "text": [
      "Nigeria Abuja ['Nigeria', 'Abuja']\n",
      "Scotland Edinburgh ['Scotland', 'Edinburgh']\n",
      "England London ['England', 'London']\n",
      "Ireland Dublin ['Ireland', 'Dublin']\n",
      "Bulgaria Sofia ['Bulgaria', 'Sofia']\n"
     ]
    }
   ],
   "source": [
    "with open(\"captials.txt\") as filein:\n",
    "    for line in filein:\n",
    "        l=line.strip()\n",
    "        capitals = l.split()\n",
    "        print(l, capitals)"
   ]
  },
  {
   "cell_type": "code",
   "execution_count": 9,
   "id": "8a0f4778",
   "metadata": {},
   "outputs": [
    {
     "name": "stdout",
     "output_type": "stream",
     "text": [
      "Nigeria-naira ['Nigeria', 'naira']\n",
      "Scotland-pound ['Scotland', 'pound']\n",
      "England-pound ['England', 'pound']\n",
      "Ireland-euro ['Ireland', 'euro']\n",
      "Bulgaria-lev ['Bulgaria', 'lev']\n"
     ]
    }
   ],
   "source": [
    "with open(\"currency.txt\") as filein:\n",
    "    for line in filein:\n",
    "        l=line.strip()\n",
    "        currency= l.split(\"-\")\n",
    "        print(l, currency)"
   ]
  },
  {
   "cell_type": "code",
   "execution_count": 14,
   "id": "9900106f",
   "metadata": {},
   "outputs": [
    {
     "name": "stdout",
     "output_type": "stream",
     "text": [
      "country ['Nigeria', 'Scotland', 'England', 'Ireland', 'Bulgaria']\n",
      "currency ['naira', 'pound', 'pound', 'euro', 'lev']\n"
     ]
    }
   ],
   "source": [
    "country= []\n",
    "currency= []\n",
    "with open(\"currency.txt\") as filein:\n",
    "    for line in filein:\n",
    "        l=line.strip()\n",
    "        cur= l.split(\"-\")\n",
    "        #print(l, cur)\n",
    "        country.append(cur[0])\n",
    "        currency.append(cur[1])\n",
    "    print(\"country\", country)\n",
    "    print(\"currency\", currency)"
   ]
  },
  {
   "cell_type": "code",
   "execution_count": null,
   "id": "a0e38687",
   "metadata": {},
   "outputs": [],
   "source": []
  },
  {
   "cell_type": "code",
   "execution_count": null,
   "id": "ad0c49cd",
   "metadata": {},
   "outputs": [],
   "source": []
  }
 ],
 "metadata": {
  "kernelspec": {
   "display_name": "Python 3 (ipykernel)",
   "language": "python",
   "name": "python3"
  },
  "language_info": {
   "codemirror_mode": {
    "name": "ipython",
    "version": 3
   },
   "file_extension": ".py",
   "mimetype": "text/x-python",
   "name": "python",
   "nbconvert_exporter": "python",
   "pygments_lexer": "ipython3",
   "version": "3.9.12"
  }
 },
 "nbformat": 4,
 "nbformat_minor": 5
}
